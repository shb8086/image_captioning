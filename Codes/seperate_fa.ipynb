{
 "cells": [
  {
   "cell_type": "code",
   "execution_count": null,
   "metadata": {},
   "outputs": [],
   "source": [
    "import os\n",
    "import pandas as pd"
   ]
  },
  {
   "cell_type": "code",
   "execution_count": null,
   "metadata": {},
   "outputs": [],
   "source": [
    "# Path to the images\n",
    "IMAGES_PATH = '../dataset/images/'\n",
    "\n",
    "# Path to the image captions\n",
    "IMAGES_CAPTIONS = '../dataset/caption.csv'\n",
    "\n",
    "def copy_captioned_data():\n",
    "    ALL_IMAGES_PATH = '../Flicker30k/Images/'\n",
    "    ALL_IMAGES_NAMES = '../Flicker30k/Flicker30k_names_fa.csv'\n",
    "    IMAGES_NAMES = '../dataset/mine_names.csv'\n",
    "\n",
    "    \n",
    "    all_filenames = pd.read_csv(ALL_IMAGES_NAMES)\n",
    "    all_filenames = all_filenames.to_numpy()\n",
    "\n",
    "    my_filenames = pd.read_csv(IMAGES_NAMES)\n",
    "    my_filenames = my_filenames.to_numpy()\n",
    "\n",
    "    for i in range(len(my_filenames)):\n",
    "        for j in range(len(all_filenames)):\n",
    "            if all_filenames[j][0] == my_filenames[i][0]:\n",
    "                os.system('cp ' + ALL_IMAGES_PATH + str(all_filenames[j][0]) + ' ' + IMAGES_PATH + str(all_filenames[j][0]))\n",
    "                continue\n",
    "\n",
    "copy_captioned_data()"
   ]
  }
 ],
 "metadata": {
  "kernelspec": {
   "display_name": "Python 3",
   "language": "python",
   "name": "python3"
  },
  "language_info": {
   "name": "python",
   "version": "3.10.6 (main, Nov 14 2022, 16:10:14) [GCC 11.3.0]"
  },
  "orig_nbformat": 4,
  "vscode": {
   "interpreter": {
    "hash": "916dbcbb3f70747c44a77c7bcd40155683ae19c65e1c03b4aa3499c5328201f1"
   }
  }
 },
 "nbformat": 4,
 "nbformat_minor": 2
}
