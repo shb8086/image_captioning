{
 "cells": [
  {
   "cell_type": "markdown",
   "metadata": {
    "id": "87us2sLVdwME"
   },
   "source": [
    "This notebook is an end-to-end example. When you run the notebook, it downloads a dataset, extracts and caches the image features, and trains a decoder model. It then uses the model to generate captions on new images."
   ]
  },
  {
   "cell_type": "markdown",
   "metadata": {
    "id": "5bwwk4uxRz6A"
   },
   "source": [
    "## Setup"
   ]
  },
  {
   "cell_type": "code",
   "execution_count": 3,
   "metadata": {
    "execution": {
     "iopub.execute_input": "2023-07-26T11:33:54.021535Z",
     "iopub.status.busy": "2023-07-26T11:33:54.021292Z",
     "iopub.status.idle": "2023-07-26T11:33:54.202543Z",
     "shell.execute_reply": "2023-07-26T11:33:54.201568Z"
    },
    "id": "gc06pTaBbl72"
   },
   "outputs": [
    {
     "name": "stdout",
     "output_type": "stream",
     "text": [
      "\u001b[1;31mE: \u001b[0mCould not open lock file /var/lib/dpkg/lock-frontend - open (13: Permission denied)\u001b[0m\n",
      "\u001b[1;31mE: \u001b[0mUnable to acquire the dpkg frontend lock (/var/lib/dpkg/lock-frontend), are you root?\u001b[0m\n"
     ]
    }
   ],
   "source": [
    "!apt install --allow-change-held-packages libcudnn8=8.6.0.163-1+cuda11.8"
   ]
  },
  {
   "cell_type": "code",
   "execution_count": 4,
   "metadata": {
    "execution": {
     "iopub.execute_input": "2023-07-26T11:33:54.206458Z",
     "iopub.status.busy": "2023-07-26T11:33:54.206161Z",
     "iopub.status.idle": "2023-07-26T11:33:57.448922Z",
     "shell.execute_reply": "2023-07-26T11:33:57.447697Z"
    },
    "id": "2R1hQGtZEi8Y"
   },
   "outputs": [
    {
     "name": "stdout",
     "output_type": "stream",
     "text": [
      "Found existing installation: tensorflow 2.13.0\n",
      "Uninstalling tensorflow-2.13.0:\n",
      "\u001b[31mERROR: Exception:\n",
      "Traceback (most recent call last):\n",
      "  File \"/usr/lib/python3.10/shutil.py\", line 816, in move\n",
      "    os.rename(src, real_dst)\n",
      "PermissionError: [Errno 13] Permission denied: '/usr/local/bin/estimator_ckpt_converter' -> '/tmp/pip-uninstall-m0hgfc62/estimator_ckpt_converter'\n",
      "\n",
      "During handling of the above exception, another exception occurred:\n",
      "\n",
      "Traceback (most recent call last):\n",
      "  File \"/home/shima/.local/lib/python3.10/site-packages/pip/_internal/cli/base_command.py\", line 180, in exc_logging_wrapper\n",
      "    status = run_func(*args)\n",
      "  File \"/home/shima/.local/lib/python3.10/site-packages/pip/_internal/commands/uninstall.py\", line 105, in run\n",
      "    uninstall_pathset = req.uninstall(\n",
      "  File \"/home/shima/.local/lib/python3.10/site-packages/pip/_internal/req/req_install.py\", line 687, in uninstall\n",
      "    uninstalled_pathset.remove(auto_confirm, verbose)\n",
      "  File \"/home/shima/.local/lib/python3.10/site-packages/pip/_internal/req/req_uninstall.py\", line 381, in remove\n",
      "    moved.stash(path)\n",
      "  File \"/home/shima/.local/lib/python3.10/site-packages/pip/_internal/req/req_uninstall.py\", line 272, in stash\n",
      "    renames(path, new_path)\n",
      "  File \"/home/shima/.local/lib/python3.10/site-packages/pip/_internal/utils/misc.py\", line 315, in renames\n",
      "    shutil.move(old, new)\n",
      "  File \"/usr/lib/python3.10/shutil.py\", line 837, in move\n",
      "    os.unlink(src)\n",
      "PermissionError: [Errno 13] Permission denied: '/usr/local/bin/estimator_ckpt_converter'\u001b[0m\u001b[31m\n",
      "\u001b[0m"
     ]
    }
   ],
   "source": [
    "!pip uninstall -y tensorflow estimator keras"
   ]
  },
  {
   "cell_type": "code",
   "execution_count": 5,
   "metadata": {
    "execution": {
     "iopub.execute_input": "2023-07-26T11:33:57.453769Z",
     "iopub.status.busy": "2023-07-26T11:33:57.453481Z",
     "iopub.status.idle": "2023-07-26T11:34:26.373769Z",
     "shell.execute_reply": "2023-07-26T11:34:26.372577Z"
    },
    "id": "5Xbt8BkPv8Ou"
   },
   "outputs": [
    {
     "name": "stdout",
     "output_type": "stream",
     "text": [
      "Defaulting to user installation because normal site-packages is not writeable\n",
      "Requirement already satisfied: tensorflow_text in /home/shima/.local/lib/python3.10/site-packages (2.13.0)\n",
      "Requirement already satisfied: tensorflow in /usr/local/lib/python3.10/dist-packages (2.13.0)\n",
      "Requirement already satisfied: tensorflow_datasets in /home/shima/.local/lib/python3.10/site-packages (4.9.2)\n",
      "Requirement already satisfied: tensorflow-hub>=0.8.0 in /home/shima/.local/lib/python3.10/site-packages (from tensorflow_text) (0.14.0)\n",
      "Requirement already satisfied: absl-py>=1.0.0 in /usr/local/lib/python3.10/dist-packages (from tensorflow) (1.3.0)\n",
      "Requirement already satisfied: astunparse>=1.6.0 in /usr/local/lib/python3.10/dist-packages (from tensorflow) (1.6.3)\n",
      "Requirement already satisfied: flatbuffers>=23.1.21 in /home/shima/.local/lib/python3.10/site-packages (from tensorflow) (23.5.26)\n",
      "Requirement already satisfied: gast<=0.4.0,>=0.2.1 in /usr/local/lib/python3.10/dist-packages (from tensorflow) (0.4.0)\n",
      "Requirement already satisfied: google-pasta>=0.1.1 in /usr/local/lib/python3.10/dist-packages (from tensorflow) (0.2.0)\n",
      "Requirement already satisfied: grpcio<2.0,>=1.24.3 in /usr/local/lib/python3.10/dist-packages (from tensorflow) (1.51.1)\n",
      "Requirement already satisfied: h5py>=2.9.0 in /usr/local/lib/python3.10/dist-packages (from tensorflow) (3.7.0)\n",
      "Requirement already satisfied: keras<2.14,>=2.13.1 in /usr/local/lib/python3.10/dist-packages (from tensorflow) (2.13.1)\n",
      "Requirement already satisfied: libclang>=13.0.0 in /usr/local/lib/python3.10/dist-packages (from tensorflow) (15.0.6.1)\n",
      "Requirement already satisfied: numpy<=1.24.3,>=1.22 in /usr/local/lib/python3.10/dist-packages (from tensorflow) (1.23.5)\n",
      "Requirement already satisfied: opt-einsum>=2.3.2 in /usr/local/lib/python3.10/dist-packages (from tensorflow) (3.3.0)\n",
      "Requirement already satisfied: packaging in /home/shima/.local/lib/python3.10/site-packages (from tensorflow) (21.3)\n",
      "Requirement already satisfied: protobuf!=4.21.0,!=4.21.1,!=4.21.2,!=4.21.3,!=4.21.4,!=4.21.5,<5.0.0dev,>=3.20.3 in /home/shima/.local/lib/python3.10/site-packages (from tensorflow) (4.23.4)\n",
      "Requirement already satisfied: setuptools in /usr/lib/python3/dist-packages (from tensorflow) (59.6.0)\n",
      "Requirement already satisfied: six>=1.12.0 in /usr/lib/python3/dist-packages (from tensorflow) (1.16.0)\n",
      "Requirement already satisfied: tensorboard<2.14,>=2.13 in /home/shima/.local/lib/python3.10/site-packages (from tensorflow) (2.13.0)\n",
      "Requirement already satisfied: tensorflow-estimator<2.14,>=2.13.0 in /home/shima/.local/lib/python3.10/site-packages (from tensorflow) (2.13.0)\n",
      "Requirement already satisfied: termcolor>=1.1.0 in /usr/local/lib/python3.10/dist-packages (from tensorflow) (2.2.0)\n",
      "Requirement already satisfied: typing-extensions<4.6.0,>=3.6.6 in /usr/local/lib/python3.10/dist-packages (from tensorflow) (4.4.0)\n",
      "Requirement already satisfied: wrapt>=1.11.0 in /usr/local/lib/python3.10/dist-packages (from tensorflow) (1.14.1)\n",
      "Requirement already satisfied: tensorflow-io-gcs-filesystem>=0.23.1 in /usr/local/lib/python3.10/dist-packages (from tensorflow) (0.29.0)\n",
      "Requirement already satisfied: array-record in /home/shima/.local/lib/python3.10/site-packages (from tensorflow_datasets) (0.4.0)\n",
      "Requirement already satisfied: click in /usr/lib/python3/dist-packages (from tensorflow_datasets) (8.0.3)\n",
      "Requirement already satisfied: dm-tree in /home/shima/.local/lib/python3.10/site-packages (from tensorflow_datasets) (0.1.8)\n",
      "Requirement already satisfied: etils[enp,epath]>=0.9.0 in /home/shima/.local/lib/python3.10/site-packages (from tensorflow_datasets) (1.4.1)\n",
      "Requirement already satisfied: promise in /home/shima/.local/lib/python3.10/site-packages (from tensorflow_datasets) (2.3)\n",
      "Requirement already satisfied: psutil in /home/shima/.local/lib/python3.10/site-packages (from tensorflow_datasets) (5.9.4)\n",
      "Requirement already satisfied: requests>=2.19.0 in /usr/lib/python3/dist-packages (from tensorflow_datasets) (2.25.1)\n",
      "Requirement already satisfied: tensorflow-metadata in /home/shima/.local/lib/python3.10/site-packages (from tensorflow_datasets) (1.13.1)\n",
      "Requirement already satisfied: toml in /home/shima/.local/lib/python3.10/site-packages (from tensorflow_datasets) (0.10.2)\n",
      "Requirement already satisfied: tqdm in /home/shima/.local/lib/python3.10/site-packages (from tensorflow_datasets) (4.64.1)\n",
      "Requirement already satisfied: wheel<1.0,>=0.23.0 in /usr/lib/python3/dist-packages (from astunparse>=1.6.0->tensorflow) (0.37.1)\n",
      "Requirement already satisfied: importlib_resources in /home/shima/.local/lib/python3.10/site-packages (from etils[enp,epath]>=0.9.0->tensorflow_datasets) (6.0.0)\n",
      "Requirement already satisfied: zipp in /usr/lib/python3/dist-packages (from etils[enp,epath]>=0.9.0->tensorflow_datasets) (1.0.0)\n",
      "Requirement already satisfied: google-auth<3,>=1.6.3 in /usr/local/lib/python3.10/dist-packages (from tensorboard<2.14,>=2.13->tensorflow) (2.16.0)\n",
      "Requirement already satisfied: google-auth-oauthlib<1.1,>=0.5 in /home/shima/.local/lib/python3.10/site-packages (from tensorboard<2.14,>=2.13->tensorflow) (1.0.0)\n",
      "Requirement already satisfied: markdown>=2.6.8 in /usr/local/lib/python3.10/dist-packages (from tensorboard<2.14,>=2.13->tensorflow) (3.4.1)\n",
      "Requirement already satisfied: tensorboard-data-server<0.8.0,>=0.7.0 in /home/shima/.local/lib/python3.10/site-packages (from tensorboard<2.14,>=2.13->tensorflow) (0.7.1)\n",
      "Requirement already satisfied: werkzeug>=1.0.1 in /usr/local/lib/python3.10/dist-packages (from tensorboard<2.14,>=2.13->tensorflow) (2.2.2)\n",
      "Requirement already satisfied: pyparsing!=3.0.5,>=2.0.2 in /usr/lib/python3/dist-packages (from packaging->tensorflow) (2.4.7)\n",
      "Requirement already satisfied: googleapis-common-protos<2,>=1.52.0 in /home/shima/.local/lib/python3.10/site-packages (from tensorflow-metadata->tensorflow_datasets) (1.60.0)\n",
      "Requirement already satisfied: cachetools<6.0,>=2.0.0 in /usr/local/lib/python3.10/dist-packages (from google-auth<3,>=1.6.3->tensorboard<2.14,>=2.13->tensorflow) (5.2.1)\n",
      "Requirement already satisfied: pyasn1-modules>=0.2.1 in /usr/local/lib/python3.10/dist-packages (from google-auth<3,>=1.6.3->tensorboard<2.14,>=2.13->tensorflow) (0.2.8)\n",
      "Requirement already satisfied: rsa<5,>=3.1.4 in /usr/local/lib/python3.10/dist-packages (from google-auth<3,>=1.6.3->tensorboard<2.14,>=2.13->tensorflow) (4.9)\n",
      "Requirement already satisfied: requests-oauthlib>=0.7.0 in /usr/local/lib/python3.10/dist-packages (from google-auth-oauthlib<1.1,>=0.5->tensorboard<2.14,>=2.13->tensorflow) (1.3.1)\n",
      "Requirement already satisfied: MarkupSafe>=2.1.1 in /usr/local/lib/python3.10/dist-packages (from werkzeug>=1.0.1->tensorboard<2.14,>=2.13->tensorflow) (2.1.1)\n",
      "Requirement already satisfied: pyasn1<0.5.0,>=0.4.6 in /usr/local/lib/python3.10/dist-packages (from pyasn1-modules>=0.2.1->google-auth<3,>=1.6.3->tensorboard<2.14,>=2.13->tensorflow) (0.4.8)\n",
      "Requirement already satisfied: oauthlib>=3.0.0 in /usr/lib/python3/dist-packages (from requests-oauthlib>=0.7.0->google-auth-oauthlib<1.1,>=0.5->tensorboard<2.14,>=2.13->tensorflow) (3.2.0)\n"
     ]
    }
   ],
   "source": [
    "!pip install -U tensorflow_text tensorflow tensorflow_datasets"
   ]
  },
  {
   "cell_type": "code",
   "execution_count": 6,
   "metadata": {
    "execution": {
     "iopub.execute_input": "2023-07-26T11:34:26.378619Z",
     "iopub.status.busy": "2023-07-26T11:34:26.378331Z",
     "iopub.status.idle": "2023-07-26T11:34:28.775745Z",
     "shell.execute_reply": "2023-07-26T11:34:28.774466Z"
    },
    "id": "7TGZmOuqMia9"
   },
   "outputs": [
    {
     "name": "stdout",
     "output_type": "stream",
     "text": [
      "Defaulting to user installation because normal site-packages is not writeable\n",
      "Requirement already satisfied: einops in /home/shima/.local/lib/python3.10/site-packages (0.6.1)\n",
      "^C\n",
      "\u001b[31mERROR: Operation cancelled by user\u001b[0m\u001b[31m\n",
      "\u001b[0m"
     ]
    }
   ],
   "source": [
    "!pip install einops"
   ]
  },
  {
   "cell_type": "markdown",
   "metadata": {
    "id": "nQ6q39Vd-y-7"
   },
   "source": [
    "This tutorial uses lots of imports, mostly for loading the dataset(s)."
   ]
  },
  {
   "cell_type": "code",
   "execution_count": null,
   "metadata": {
    "cellView": "form",
    "execution": {
     "iopub.execute_input": "2023-07-26T11:34:28.780494Z",
     "iopub.status.busy": "2023-07-26T11:34:28.780187Z",
     "iopub.status.idle": "2023-07-26T11:34:32.841605Z",
     "shell.execute_reply": "2023-07-26T11:34:32.840556Z"
    },
    "id": "U8l4RJ0XRPEm"
   },
   "outputs": [],
   "source": [
    "#@title\n",
    "import concurrent.futures\n",
    "import collections\n",
    "import dataclasses\n",
    "import hashlib\n",
    "import itertools\n",
    "import json\n",
    "import math\n",
    "import os\n",
    "import pathlib\n",
    "import random\n",
    "import re\n",
    "import string\n",
    "import time\n",
    "import urllib.request\n",
    "\n",
    "import einops\n",
    "import matplotlib.pyplot as plt\n",
    "import numpy as np\n",
    "import pandas as pd\n",
    "from PIL import Image\n",
    "import requests\n",
    "import tqdm\n",
    "\n",
    "import tensorflow as tf\n",
    "import tensorflow_hub as hub\n",
    "import tensorflow_text as text\n",
    "import tensorflow_datasets as tfds"
   ]
  },
  {
   "cell_type": "markdown",
   "metadata": {
    "id": "q5e_SigQFiWf"
   },
   "source": [
    "### Choose a dataset\n",
    "\n",
    "This tutorial is set up to give a choice of datasets. Either [Flickr8k](https://www.ijcai.org/Proceedings/15/Papers/593.pdf) or a small slice of the [Conceptual Captions](https://ai.google.com/research/ConceptualCaptions/) dataset. These two are downloaded and converted from scratch, but it wouldn't be hard to convert the tutorial to use the caption datasets available in [TensorFlow Datasets](https://www.tensorflow.org/datasets): [Coco Captions](https://www.tensorflow.org/datasets/catalog/coco_captions) and the full [Conceptual Captions](https://www.tensorflow.org/datasets/community_catalog/huggingface/conceptual_captions).\n"
   ]
  },
  {
   "cell_type": "markdown",
   "metadata": {
    "id": "wqGXX9Dc5c0v"
   },
   "source": [
    "#### Flickr8k"
   ]
  },
  {
   "cell_type": "code",
   "execution_count": null,
   "metadata": {
    "execution": {
     "iopub.execute_input": "2023-07-26T11:34:32.846849Z",
     "iopub.status.busy": "2023-07-26T11:34:32.846414Z",
     "iopub.status.idle": "2023-07-26T11:34:32.854996Z",
     "shell.execute_reply": "2023-07-26T11:34:32.854216Z"
    },
    "id": "kaNy_l7tGuAZ"
   },
   "outputs": [],
   "source": [
    "def dataset(path='../dataset'):\n",
    "  path = pathlib.Path(path)\n",
    "    \n",
    "  captions = (path/\"captions.txt\").read_text().splitlines()\n",
    "  captions = (line.split(',') for line in captions)\n",
    "  captions = ((fname.split(',')[0], caption) for (fname, caption) in captions)\n",
    "\n",
    "  cap_dict = collections.defaultdict(list)\n",
    "  for fname, cap in captions:\n",
    "    # print(cap)\n",
    "    cap_dict[fname].append(cap)\n",
    "\n",
    "  train_files = (path/'train_captions.txt').read_text().splitlines()\n",
    "  train_captions = [(str(path/'images'/fname), cap_dict[fname]) for fname in train_files]\n",
    "\n",
    "  test_files = (path/'test_captions.txt').read_text().splitlines()\n",
    "  test_captions = [(str(path/'images'/fname), cap_dict[fname]) for fname in test_files]\n",
    "\n",
    "  train_ds = tf.data.experimental.from_list(train_captions)\n",
    "  test_ds = tf.data.experimental.from_list(test_captions)\n",
    "\n",
    "  return train_ds, test_ds"
   ]
  },
  {
   "cell_type": "markdown",
   "metadata": {
    "id": "zQICBAF4FmSL"
   },
   "source": [
    "#### Conceptual Captions"
   ]
  },
  {
   "cell_type": "code",
   "execution_count": null,
   "metadata": {
    "execution": {
     "iopub.execute_input": "2023-07-26T11:34:32.858987Z",
     "iopub.status.busy": "2023-07-26T11:34:32.858742Z",
     "iopub.status.idle": "2023-07-26T11:34:32.869465Z",
     "shell.execute_reply": "2023-07-26T11:34:32.868584Z"
    },
    "id": "vQwnxXZXRl12"
   },
   "outputs": [],
   "source": [
    "def conceptual_captions(*, data_dir=\"conceptual_captions\", num_train, num_val):\n",
    "  def iter_index(index_path):\n",
    "    with open(index_path) as f:\n",
    "      for line in f:\n",
    "        caption, url = line.strip().split('\\t')\n",
    "        yield caption, url\n",
    "\n",
    "  def download_image_urls(data_dir, urls):\n",
    "    ex = concurrent.futures.ThreadPoolExecutor(max_workers=100)\n",
    "    def save_image(url):\n",
    "      hash = hashlib.sha1(url.encode())\n",
    "      # Name the files after the hash of the URL.\n",
    "      file_path = data_dir/f'{hash.hexdigest()}.jpeg'\n",
    "      if file_path.exists():\n",
    "        # Only download each file once.\n",
    "        return file_path\n",
    "\n",
    "      try:\n",
    "        result = requests.get(url, timeout=5)\n",
    "      except Exception:\n",
    "        file_path = None\n",
    "      else:\n",
    "        file_path.write_bytes(result.content)\n",
    "      return file_path\n",
    "    \n",
    "    result = []\n",
    "    out_paths = ex.map(save_image, urls)\n",
    "    for file_path in tqdm.tqdm(out_paths, total=len(urls)):\n",
    "      result.append(file_path)\n",
    "\n",
    "    return result\n",
    "\n",
    "  def ds_from_index_file(index_path, data_dir, count):\n",
    "    data_dir.mkdir(exist_ok=True)\n",
    "    index = list(itertools.islice(iter_index(index_path), count))\n",
    "    captions = [caption for caption, url in index]\n",
    "    urls = [url for caption, url in index]\n",
    "\n",
    "    paths = download_image_urls(data_dir, urls)\n",
    "\n",
    "    new_captions = []\n",
    "    new_paths = []\n",
    "    for cap, path in zip(captions, paths):\n",
    "      if path is None:\n",
    "        # Download failed, so skip this pair.\n",
    "        continue\n",
    "      new_captions.append(cap)\n",
    "      new_paths.append(path)\n",
    "    \n",
    "    new_paths = [str(p) for p in new_paths]\n",
    "\n",
    "    ds = tf.data.Dataset.from_tensor_slices((new_paths, new_captions))\n",
    "    ds = ds.map(lambda path,cap: (path, cap[tf.newaxis])) # 1 caption per image\n",
    "    return ds\n",
    "\n",
    "  data_dir = pathlib.Path(data_dir)\n",
    "  train_index_path = tf.keras.utils.get_file(\n",
    "    origin='https://storage.googleapis.com/gcc-data/Train/GCC-training.tsv',\n",
    "    cache_subdir=data_dir,\n",
    "    cache_dir='.')\n",
    "  \n",
    "  val_index_path = tf.keras.utils.get_file(\n",
    "    origin='https://storage.googleapis.com/gcc-data/Validation/GCC-1.1.0-Validation.tsv',\n",
    "    cache_subdir=data_dir,\n",
    "    cache_dir='.')\n",
    "  \n",
    "  train_raw = ds_from_index_file(train_index_path, data_dir=data_dir/'train', count=num_train)\n",
    "  test_raw = ds_from_index_file(val_index_path, data_dir=data_dir/'val', count=num_val)\n",
    "\n",
    "  return train_raw, test_raw"
   ]
  },
  {
   "cell_type": "code",
   "execution_count": null,
   "metadata": {
    "execution": {
     "iopub.execute_input": "2023-07-26T11:34:32.873294Z",
     "iopub.status.busy": "2023-07-26T11:34:32.873040Z",
     "iopub.status.idle": "2023-07-26T11:35:06.343607Z",
     "shell.execute_reply": "2023-07-26T11:35:06.342428Z"
    },
    "id": "EJySPbzJ4Wxw"
   },
   "outputs": [],
   "source": [
    "choose = 'persian_flicker30k'\n",
    "\n",
    "if choose == 'persian_flicker30k':\n",
    "  train_raw, test_raw = dataset()\n",
    "else:\n",
    "  train_raw, test_raw = conceptual_captions(num_train=10000, num_val=5000)\n",
    "  "
   ]
  },
  {
   "cell_type": "markdown",
   "metadata": {
    "id": "-UAc275FHxm8"
   },
   "source": [
    "The loaders for both datasets above return `tf.data.Dataset`s containing `(image_path, captions)` pairs. The Flickr8k dataset contains 5 captions per image, while Conceptual Captions has 1:"
   ]
  },
  {
   "cell_type": "code",
   "execution_count": null,
   "metadata": {
    "execution": {
     "iopub.execute_input": "2023-07-26T11:35:06.348740Z",
     "iopub.status.busy": "2023-07-26T11:35:06.348448Z",
     "iopub.status.idle": "2023-07-26T11:35:06.356588Z",
     "shell.execute_reply": "2023-07-26T11:35:06.355672Z"
    },
    "id": "sAQSps5F8RQI"
   },
   "outputs": [],
   "source": [
    "train_raw.element_spec"
   ]
  },
  {
   "cell_type": "code",
   "execution_count": null,
   "metadata": {
    "execution": {
     "iopub.execute_input": "2023-07-26T11:35:06.360065Z",
     "iopub.status.busy": "2023-07-26T11:35:06.359825Z",
     "iopub.status.idle": "2023-07-26T11:35:07.719509Z",
     "shell.execute_reply": "2023-07-26T11:35:07.718598Z"
    },
    "id": "xIa0ZaP4tBez"
   },
   "outputs": [],
   "source": [
    "for ex_path, ex_captions in train_raw.take(1):\n",
    "  print(ex_path)\n",
    "  print(ex_captions)"
   ]
  },
  {
   "cell_type": "markdown",
   "metadata": {
    "id": "8cSW4u-ORPFQ"
   },
   "source": [
    "### Image feature extractor\n",
    "\n",
    "You will use an image model (pretrained on imagenet) to extract the features from each image. The model was trained as an image classifier, but setting `include_top=False` returns the model without the final classification layer, so you can use the last layer of feature-maps:  \n"
   ]
  },
  {
   "cell_type": "code",
   "execution_count": null,
   "metadata": {
    "execution": {
     "iopub.execute_input": "2023-07-26T11:35:07.724149Z",
     "iopub.status.busy": "2023-07-26T11:35:07.723240Z",
     "iopub.status.idle": "2023-07-26T11:35:09.537818Z",
     "shell.execute_reply": "2023-07-26T11:35:09.536845Z"
    },
    "id": "IlUckK8Zfikv"
   },
   "outputs": [],
   "source": [
    "IMAGE_SHAPE=(224, 224, 3)\n",
    "mobilenet = tf.keras.applications.MobileNetV3Small(\n",
    "    input_shape=IMAGE_SHAPE,\n",
    "    include_top=False,\n",
    "    include_preprocessing=True)\n",
    "mobilenet.trainable=False"
   ]
  },
  {
   "cell_type": "markdown",
   "metadata": {
    "id": "Dojkiou9gL3R"
   },
   "source": [
    "Here's a function to load an image and resize it for the model:"
   ]
  },
  {
   "cell_type": "code",
   "execution_count": null,
   "metadata": {
    "execution": {
     "iopub.execute_input": "2023-07-26T11:35:09.542481Z",
     "iopub.status.busy": "2023-07-26T11:35:09.542211Z",
     "iopub.status.idle": "2023-07-26T11:35:09.546959Z",
     "shell.execute_reply": "2023-07-26T11:35:09.546129Z"
    },
    "id": "zXR0217aRPFR"
   },
   "outputs": [],
   "source": [
    "def load_image(image_path):\n",
    "    img = tf.io.read_file(image_path)\n",
    "    img = tf.io.decode_jpeg(img, channels=3)\n",
    "    img = tf.image.resize(img, IMAGE_SHAPE[:-1])\n",
    "    return img"
   ]
  },
  {
   "cell_type": "markdown",
   "metadata": {
    "id": "-JyQ7zS6gzZh"
   },
   "source": [
    "The model returns a feature map for each image in the input batch:"
   ]
  },
  {
   "cell_type": "code",
   "execution_count": null,
   "metadata": {
    "execution": {
     "iopub.execute_input": "2023-07-26T11:35:09.550614Z",
     "iopub.status.busy": "2023-07-26T11:35:09.550343Z",
     "iopub.status.idle": "2023-07-26T11:35:13.406958Z",
     "shell.execute_reply": "2023-07-26T11:35:13.406038Z"
    },
    "id": "sY86n2i6wJNm"
   },
   "outputs": [],
   "source": [
    "test_img_batch = load_image(ex_path)[tf.newaxis, :]\n",
    "\n",
    "print(test_img_batch.shape)\n",
    "print(mobilenet(test_img_batch).shape)"
   ]
  },
  {
   "cell_type": "markdown",
   "metadata": {
    "id": "nyqH3zFwRPFi"
   },
   "source": [
    "### Setup the text tokenizer/vectorizer\n",
    "\n",
    "You will transform the text captions into integer sequences using the [TextVectorization](https://www.tensorflow.org/api_docs/python/tf/keras/layers/TextVectorization) layer, with the following steps:\n",
    "\n",
    "* Use [adapt](https://www.tensorflow.org/api_docs/python/tf/keras/layers/TextVectorization#adapt) to iterate over all captions, split the captions into words, and compute a vocabulary of the top words.\n",
    "* Tokenize all captions by mapping each word to its index in the vocabulary. All output sequences will be padded to length 50.\n",
    "* Create word-to-index and index-to-word mappings to display results."
   ]
  },
  {
   "cell_type": "code",
   "execution_count": null,
   "metadata": {
    "execution": {
     "iopub.execute_input": "2023-07-26T11:35:13.410984Z",
     "iopub.status.busy": "2023-07-26T11:35:13.410677Z",
     "iopub.status.idle": "2023-07-26T11:35:13.415488Z",
     "shell.execute_reply": "2023-07-26T11:35:13.414644Z"
    },
    "id": "NroZIzB90hD3"
   },
   "outputs": [],
   "source": [
    "def standardize(s):\n",
    "  s = tf.strings.lower(s)\n",
    "  s = tf.strings.regex_replace(s, f'[{re.escape(string.punctuation)}]', '')\n",
    "  s = tf.strings.join(['[START]', s, '[END]'], separator=' ')\n",
    "  return s"
   ]
  },
  {
   "cell_type": "code",
   "execution_count": null,
   "metadata": {
    "execution": {
     "iopub.execute_input": "2023-07-26T11:35:13.419047Z",
     "iopub.status.busy": "2023-07-26T11:35:13.418790Z",
     "iopub.status.idle": "2023-07-26T11:35:13.432593Z",
     "shell.execute_reply": "2023-07-26T11:35:13.431816Z"
    },
    "id": "n9SQOXFsyS36"
   },
   "outputs": [],
   "source": [
    "# Use the top 5000 words for a vocabulary.\n",
    "vocabulary_size = 10000\n",
    "tokenizer = tf.keras.layers.TextVectorization(\n",
    "    max_tokens=vocabulary_size,\n",
    "    standardize=standardize,\n",
    "    ragged=True)\n",
    "# Learn the vocabulary from the caption data."
   ]
  },
  {
   "cell_type": "code",
   "execution_count": null,
   "metadata": {
    "execution": {
     "iopub.execute_input": "2023-07-26T11:35:13.436296Z",
     "iopub.status.busy": "2023-07-26T11:35:13.436051Z",
     "iopub.status.idle": "2023-07-26T11:35:14.956588Z",
     "shell.execute_reply": "2023-07-26T11:35:14.955660Z"
    },
    "id": "oJGE34aiRPFo"
   },
   "outputs": [],
   "source": [
    "tokenizer.adapt(train_raw.map(lambda fp,txt: txt).unbatch().batch(1024))"
   ]
  },
  {
   "cell_type": "code",
   "execution_count": null,
   "metadata": {
    "execution": {
     "iopub.execute_input": "2023-07-26T11:35:14.961181Z",
     "iopub.status.busy": "2023-07-26T11:35:14.960913Z",
     "iopub.status.idle": "2023-07-26T11:35:14.975315Z",
     "shell.execute_reply": "2023-07-26T11:35:14.974460Z"
    },
    "id": "oRahTDtWhJIf"
   },
   "outputs": [],
   "source": [
    "tokenizer.get_vocabulary()[:10]"
   ]
  },
  {
   "cell_type": "code",
   "execution_count": null,
   "metadata": {
    "execution": {
     "iopub.execute_input": "2023-07-26T11:35:14.978772Z",
     "iopub.status.busy": "2023-07-26T11:35:14.978479Z",
     "iopub.status.idle": "2023-07-26T11:35:15.019893Z",
     "shell.execute_reply": "2023-07-26T11:35:15.019047Z"
    },
    "id": "-2mGxD33JCxN"
   },
   "outputs": [],
   "source": [
    "t = tokenizer([['دختربچه ای که نوزادی را در آغوش دارد'], ['خمیازه سگ']])\n",
    "t"
   ]
  },
  {
   "cell_type": "code",
   "execution_count": null,
   "metadata": {
    "execution": {
     "iopub.execute_input": "2023-07-26T11:35:15.023451Z",
     "iopub.status.busy": "2023-07-26T11:35:15.023181Z",
     "iopub.status.idle": "2023-07-26T11:35:15.116284Z",
     "shell.execute_reply": "2023-07-26T11:35:15.115379Z"
    },
    "id": "8Q44tNQVRPFt"
   },
   "outputs": [],
   "source": [
    "# Create mappings for words to indices and indices to words.\n",
    "word_to_index = tf.keras.layers.StringLookup(\n",
    "    mask_token=\"\",\n",
    "    vocabulary=tokenizer.get_vocabulary())\n",
    "index_to_word = tf.keras.layers.StringLookup(\n",
    "    mask_token=\"\",\n",
    "    vocabulary=tokenizer.get_vocabulary(),\n",
    "    invert=True)"
   ]
  },
  {
   "cell_type": "code",
   "execution_count": null,
   "metadata": {
    "execution": {
     "iopub.execute_input": "2023-07-26T11:35:15.119912Z",
     "iopub.status.busy": "2023-07-26T11:35:15.119642Z",
     "iopub.status.idle": "2023-07-26T11:35:15.131112Z",
     "shell.execute_reply": "2023-07-26T11:35:15.130270Z"
    },
    "id": "qo-cfCX3LnHs"
   },
   "outputs": [],
   "source": [
    "w = index_to_word(t)\n",
    "w.to_list()"
   ]
  },
  {
   "cell_type": "code",
   "execution_count": null,
   "metadata": {
    "execution": {
     "iopub.execute_input": "2023-07-26T11:35:15.134603Z",
     "iopub.status.busy": "2023-07-26T11:35:15.134313Z",
     "iopub.status.idle": "2023-07-26T11:35:15.185379Z",
     "shell.execute_reply": "2023-07-26T11:35:15.184523Z"
    },
    "id": "rrUUfGc65vAT"
   },
   "outputs": [],
   "source": [
    "tf.strings.reduce_join(w, separator=' ', axis=-1).numpy()"
   ]
  },
  {
   "cell_type": "markdown",
   "metadata": {
    "id": "uEWM9xrYcg45"
   },
   "source": [
    "### Prepare the datasets"
   ]
  },
  {
   "cell_type": "markdown",
   "metadata": {
    "id": "6aX0Z_98S2tN"
   },
   "source": [
    "The `train_raw` and `test_raw` datasets contain 1:many `(image, captions)` pairs. \n",
    "\n",
    "This function will replicate the image so there are 1:1 images to captions:"
   ]
  },
  {
   "cell_type": "code",
   "execution_count": null,
   "metadata": {
    "execution": {
     "iopub.execute_input": "2023-07-26T11:35:15.189360Z",
     "iopub.status.busy": "2023-07-26T11:35:15.189099Z",
     "iopub.status.idle": "2023-07-26T11:35:15.193490Z",
     "shell.execute_reply": "2023-07-26T11:35:15.192671Z"
    },
    "id": "3_Lqwl9NiGT0"
   },
   "outputs": [],
   "source": [
    "def match_shapes(images, captions):\n",
    "  caption_shape = einops.parse_shape(captions, 'b c')\n",
    "  captions = einops.rearrange(captions, 'b c -> (b c)')\n",
    "  images = einops.repeat(\n",
    "      images, 'b ... -> (b c) ...',\n",
    "      c = caption_shape['c'])\n",
    "  return images, captions"
   ]
  },
  {
   "cell_type": "code",
   "execution_count": null,
   "metadata": {
    "execution": {
     "iopub.execute_input": "2023-07-26T11:35:15.197215Z",
     "iopub.status.busy": "2023-07-26T11:35:15.196943Z",
     "iopub.status.idle": "2023-07-26T11:35:16.355082Z",
     "shell.execute_reply": "2023-07-26T11:35:16.354068Z"
    },
    "id": "CZGUsuGzUfzt"
   },
   "outputs": [],
   "source": [
    "for ex_paths, ex_captions in train_raw.batch(32).take(1):\n",
    "  break\n",
    "\n",
    "print('image paths:', ex_paths.shape)\n",
    "print('captions:', ex_captions.shape)\n",
    "print()\n",
    "\n",
    "ex_paths, ex_captions = match_shapes(images=ex_paths, captions=ex_captions)\n",
    "\n",
    "print('image_paths:', ex_paths.shape)\n",
    "print('captions:', ex_captions.shape)\n"
   ]
  },
  {
   "cell_type": "markdown",
   "metadata": {
    "id": "8ENR_-swVhnm"
   },
   "source": [
    "To be compatible with keras training the dataset should contain `(inputs, labels)` pairs. For text generation the tokens are both an input and the labels, shifted by one step. This function will convert an `(images, texts)` pair to an `((images, input_tokens), label_tokens)` pair:"
   ]
  },
  {
   "cell_type": "code",
   "execution_count": null,
   "metadata": {
    "execution": {
     "iopub.execute_input": "2023-07-26T11:35:16.359039Z",
     "iopub.status.busy": "2023-07-26T11:35:16.358779Z",
     "iopub.status.idle": "2023-07-26T11:35:16.363441Z",
     "shell.execute_reply": "2023-07-26T11:35:16.362575Z"
    },
    "id": "2DsgQ_hZT4C2"
   },
   "outputs": [],
   "source": [
    "def prepare_txt(imgs, txts):\n",
    "  tokens = tokenizer(txts)\n",
    "\n",
    "  input_tokens = tokens[..., :-1]\n",
    "  label_tokens = tokens[..., 1:]\n",
    "  return (imgs, input_tokens), label_tokens"
   ]
  },
  {
   "cell_type": "markdown",
   "metadata": {
    "id": "DA1x2j0JXX-N"
   },
   "source": [
    "This function adds operations to a dataset. The steps are:\n",
    "\n",
    "1. Load the images (and ignore images that fail to load).\n",
    "2. Replicate images to match the number of captions.\n",
    "3. Shuffle and rebatch the `image, caption` pairs.\n",
    "4. Tokenize the text, shift the tokens and add `label_tokens`.\n",
    "5. Convert the text from a `RaggedTensor` representation to padded dense `Tensor` representation."
   ]
  },
  {
   "cell_type": "code",
   "execution_count": null,
   "metadata": {
    "execution": {
     "iopub.execute_input": "2023-07-26T11:35:16.367144Z",
     "iopub.status.busy": "2023-07-26T11:35:16.366870Z",
     "iopub.status.idle": "2023-07-26T11:35:16.372769Z",
     "shell.execute_reply": "2023-07-26T11:35:16.371945Z"
    },
    "id": "4_Pt9zldjQ0q"
   },
   "outputs": [],
   "source": [
    "def prepare_dataset(ds, tokenizer, batch_size=32, shuffle_buffer=1000):\n",
    "  # Load the images and make batches.\n",
    "  ds = (ds\n",
    "        .shuffle(10000)\n",
    "        .map(lambda path, caption: (load_image(path), caption))\n",
    "        .apply(tf.data.experimental.ignore_errors())\n",
    "        .batch(batch_size))\n",
    "\n",
    "  def to_tensor(inputs, labels):\n",
    "    (images, in_tok), out_tok = inputs, labels\n",
    "    return (images, in_tok.to_tensor()), out_tok.to_tensor()\n",
    "\n",
    "  return (ds\n",
    "          .map(match_shapes, tf.data.AUTOTUNE)\n",
    "          .unbatch()\n",
    "          .shuffle(shuffle_buffer)\n",
    "          .batch(batch_size)\n",
    "          .map(prepare_txt, tf.data.AUTOTUNE)\n",
    "          .map(to_tensor, tf.data.AUTOTUNE)\n",
    "          )"
   ]
  },
  {
   "cell_type": "markdown",
   "metadata": {
    "id": "LrQ85t1GNfpQ"
   },
   "source": [
    "You could install the feature extractor in your model and train on the datasets like this:"
   ]
  },
  {
   "cell_type": "code",
   "execution_count": null,
   "metadata": {
    "execution": {
     "iopub.execute_input": "2023-07-26T11:35:16.376463Z",
     "iopub.status.busy": "2023-07-26T11:35:16.376194Z",
     "iopub.status.idle": "2023-07-26T11:35:17.822058Z",
     "shell.execute_reply": "2023-07-26T11:35:17.821111Z"
    },
    "id": "1KlhOG5cjQ0r"
   },
   "outputs": [],
   "source": [
    "train_ds = prepare_dataset(train_raw, tokenizer)\n",
    "train_ds.element_spec"
   ]
  },
  {
   "cell_type": "code",
   "execution_count": null,
   "metadata": {
    "execution": {
     "iopub.execute_input": "2023-07-26T11:35:17.825971Z",
     "iopub.status.busy": "2023-07-26T11:35:17.825645Z",
     "iopub.status.idle": "2023-07-26T11:35:17.977264Z",
     "shell.execute_reply": "2023-07-26T11:35:17.976391Z"
    },
    "id": "d7Zy9F3zX7i2"
   },
   "outputs": [],
   "source": [
    "test_ds = prepare_dataset(test_raw, tokenizer)\n",
    "test_ds.element_spec"
   ]
  },
  {
   "cell_type": "markdown",
   "metadata": {
    "id": "XZyKygJ8S8zW"
   },
   "source": [
    "### [Optional] Cache the image features"
   ]
  },
  {
   "cell_type": "markdown",
   "metadata": {
    "id": "eHKhSKhti6NS"
   },
   "source": [
    "Since the image feature extractor is not changing, and this tutorial is not using image augmentation, the image features can be cached. Same for the text tokenization. The time it takes to set up the cache is earned back on each epoch during training and validation. The code below defines two functions `save_dataset` and `load_dataset`: "
   ]
  },
  {
   "cell_type": "code",
   "execution_count": null,
   "metadata": {
    "execution": {
     "iopub.execute_input": "2023-07-26T11:35:17.981411Z",
     "iopub.status.busy": "2023-07-26T11:35:17.981116Z",
     "iopub.status.idle": "2023-07-26T11:35:17.990699Z",
     "shell.execute_reply": "2023-07-26T11:35:17.989680Z"
    },
    "id": "9N1MX5ym6xm5"
   },
   "outputs": [],
   "source": [
    "def save_dataset(ds, save_path, image_model, tokenizer, shards=10, batch_size=32):\n",
    "  # Load the images and make batches.\n",
    "  ds = (ds\n",
    "        .map(lambda path, caption: (load_image(path), caption))\n",
    "        .apply(tf.data.experimental.ignore_errors())\n",
    "        .batch(batch_size))\n",
    "\n",
    "  # Run the feature extractor on each batch\n",
    "  # Don't do this in a .map, because tf.data runs on the CPU. \n",
    "  def gen():\n",
    "    for (images, captions) in tqdm.tqdm(ds): \n",
    "      feature_maps = image_model(images)\n",
    "\n",
    "      feature_maps, captions = match_shapes(feature_maps, captions)\n",
    "      yield feature_maps, captions\n",
    "\n",
    "  # Wrap the generator in a new tf.data.Dataset.\n",
    "  new_ds = tf.data.Dataset.from_generator(\n",
    "      gen,\n",
    "      output_signature=(\n",
    "          tf.TensorSpec(shape=image_model.output_shape),\n",
    "          tf.TensorSpec(shape=(None,), dtype=tf.string)))\n",
    "\n",
    "  # Apply the tokenization \n",
    "  new_ds = (new_ds\n",
    "            .map(prepare_txt, tf.data.AUTOTUNE)\n",
    "            .unbatch()\n",
    "            .shuffle(1000))\n",
    "\n",
    "  # Save the dataset into shard files.\n",
    "  def shard_func(i, item):\n",
    "    return i % shards\n",
    "  new_ds.enumerate().save(save_path, shard_func=shard_func)\n",
    "\n",
    "def load_dataset(save_path, batch_size=32, shuffle=1000, cycle_length=2):\n",
    "  def custom_reader_func(datasets):\n",
    "    datasets = datasets.shuffle(1000)\n",
    "    return datasets.interleave(lambda x: x, cycle_length=cycle_length)\n",
    "  \n",
    "  ds = tf.data.Dataset.load(save_path, reader_func=custom_reader_func)\n",
    "\n",
    "  def drop_index(i, x):\n",
    "    return x\n",
    "\n",
    "  ds = (ds\n",
    "        .map(drop_index, tf.data.AUTOTUNE)\n",
    "        .shuffle(shuffle)\n",
    "        .padded_batch(batch_size)\n",
    "        .prefetch(tf.data.AUTOTUNE))\n",
    "  return ds"
   ]
  },
  {
   "cell_type": "code",
   "execution_count": null,
   "metadata": {
    "execution": {
     "iopub.execute_input": "2023-07-26T11:35:17.994391Z",
     "iopub.status.busy": "2023-07-26T11:35:17.994140Z",
     "iopub.status.idle": "2023-07-26T11:35:51.722446Z",
     "shell.execute_reply": "2023-07-26T11:35:51.721439Z"
    },
    "id": "tNdzrenxB3Yy"
   },
   "outputs": [],
   "source": [
    "# save_dataset(train_raw, 'train_cache', mobilenet, tokenizer)\n",
    "# save_dataset(test_raw, 'test_cache', mobilenet, tokenizer)"
   ]
  },
  {
   "cell_type": "markdown",
   "metadata": {
    "id": "798DtfH51UI8"
   },
   "source": [
    " </section>\n"
   ]
  },
  {
   "cell_type": "markdown",
   "metadata": {
    "id": "GI265LiDslr2"
   },
   "source": [
    "## Data ready for training\n",
    "\n",
    "After those preprocessing steps, here are the datasets:"
   ]
  },
  {
   "cell_type": "code",
   "execution_count": null,
   "metadata": {
    "execution": {
     "iopub.execute_input": "2023-07-26T11:35:51.726784Z",
     "iopub.status.busy": "2023-07-26T11:35:51.726458Z",
     "iopub.status.idle": "2023-07-26T11:35:51.842901Z",
     "shell.execute_reply": "2023-07-26T11:35:51.841762Z"
    },
    "id": "Pwic2YCjHZmV"
   },
   "outputs": [],
   "source": [
    "train_ds = load_dataset('train_cache')\n",
    "test_ds = load_dataset('test_cache')"
   ]
  },
  {
   "cell_type": "code",
   "execution_count": null,
   "metadata": {
    "execution": {
     "iopub.execute_input": "2023-07-26T11:35:51.846577Z",
     "iopub.status.busy": "2023-07-26T11:35:51.846300Z",
     "iopub.status.idle": "2023-07-26T11:35:51.852868Z",
     "shell.execute_reply": "2023-07-26T11:35:51.851710Z"
    },
    "id": "3B80JXj7HloX"
   },
   "outputs": [],
   "source": [
    "train_ds.element_spec"
   ]
  },
  {
   "cell_type": "markdown",
   "metadata": {
    "id": "5jfb8qknlsKi"
   },
   "source": [
    "The dataset now returns `(input, label)` pairs suitable for training with keras. The `inputs` are `(images, input_tokens)` pairs. The `images` have been processed with the feature-extractor model. For each location in the `input_tokens` the model looks at the text so far and tries to predict the next which is lined up at the same location in the `labels`."
   ]
  },
  {
   "cell_type": "code",
   "execution_count": null,
   "metadata": {
    "execution": {
     "iopub.execute_input": "2023-07-26T11:35:51.856540Z",
     "iopub.status.busy": "2023-07-26T11:35:51.856294Z",
     "iopub.status.idle": "2023-07-26T11:35:52.150868Z",
     "shell.execute_reply": "2023-07-26T11:35:52.149697Z"
    },
    "id": "YJBEwuXLZQdw"
   },
   "outputs": [],
   "source": [
    "for (inputs, ex_labels) in train_ds.take(1):\n",
    "  (ex_img, ex_in_tok) = inputs\n",
    "\n",
    "print(ex_img.shape)\n",
    "print(ex_in_tok.shape)\n",
    "print(ex_labels.shape)"
   ]
  },
  {
   "cell_type": "markdown",
   "metadata": {
    "id": "22R58DzZoF17"
   },
   "source": [
    "The input tokens and the labels are the same, just shifted by 1 step:"
   ]
  },
  {
   "cell_type": "code",
   "execution_count": null,
   "metadata": {
    "execution": {
     "iopub.execute_input": "2023-07-26T11:35:52.155066Z",
     "iopub.status.busy": "2023-07-26T11:35:52.154753Z",
     "iopub.status.idle": "2023-07-26T11:35:52.161889Z",
     "shell.execute_reply": "2023-07-26T11:35:52.161018Z"
    },
    "id": "V7h5UGftn1hT"
   },
   "outputs": [],
   "source": [
    "print(ex_in_tok[0].numpy())\n",
    "print(ex_labels[0].numpy())"
   ]
  },
  {
   "cell_type": "markdown",
   "metadata": {
    "id": "DfICM49WFpIb"
   },
   "source": [
    "## A Transformer decoder model"
   ]
  },
  {
   "cell_type": "markdown",
   "metadata": {
    "id": "ONyjuWsmZoyO"
   },
   "source": [
    "This model assumes that the pretrained image encoder is sufficient, and just focuses on building the text decoder. This tutorial uses a 2-layer Transformer-decoder.\n",
    "\n",
    "The implementations are almost identical to those in the [Transformers tutorial](https://www.tensorflow.org/text/tutorials/transformer). Refer back to it for more details.\n",
    "\n",
    "<table>\n",
    "<tr>\n",
    "  <th>The Transformer encoder and decoder.</th>\n",
    "</tr>\n",
    "<tr>\n",
    "  <td>\n",
    "   <img width=400 src=\"https://www.tensorflow.org/images/tutorials/transformer/Transformer-1layer-words.png\"/>\n",
    "  </td>\n",
    "</tr>\n",
    "</table>"
   ]
  },
  {
   "cell_type": "markdown",
   "metadata": {
    "id": "qiRXWwIKNybB"
   },
   "source": [
    "The model will be implemented in three main parts: \n",
    "\n",
    "1. Input - The token embedding and positional encoding (`SeqEmbedding`).\n",
    "1. Decoder - A stack of transformer decoder layers (`DecoderLayer`) where each contains:\n",
    "   1. A causal self attention later (`CausalSelfAttention`), where each output location can attend to the output so far.\n",
    "   1. A cross attention layer (`CrossAttention`) where each output location can attend to the input image.\n",
    "   1. A feed forward network (`FeedForward`) layer which further processes each output location independently.\n",
    "1. Output - A multiclass-classification over the output vocabulary.\n"
   ]
  },
  {
   "cell_type": "markdown",
   "metadata": {
    "id": "_ngm3SQMCaYU"
   },
   "source": [
    "### Input"
   ]
  },
  {
   "cell_type": "markdown",
   "metadata": {
    "id": "i9suaARZGPKw"
   },
   "source": [
    "The input text has already been split up into tokens and converted to sequences of IDs. \n",
    "\n",
    "Remember that unlike a CNN or RNN the Transformer's attention layers are invariant to the order of the sequence. Without some positional input, it just sees an unordered set not a sequence. So in addition to a simple vector embedding for each token ID, the embedding layer will also include an embedding for each position in the sequence.\n",
    "\n",
    "The `SeqEmbedding` layer defined below:\n",
    "\n",
    "- It looks up the embedding vector for each token.\n",
    "- It looks up an embedding vector for each sequence location.\n",
    "- It adds the two together.\n",
    "- It uses `mask_zero=True` to initialize the keras-masks for the model.\n",
    "\n",
    "Note: This implementation learns the position embeddings instead of using fixed embeddings like in the [Transformer tutorial](https://www.tensorflow.org/text/tutorials/transformer). Learning the embeddings is slightly less code, but doesn't generalize to longer sequences."
   ]
  },
  {
   "cell_type": "code",
   "execution_count": null,
   "metadata": {
    "execution": {
     "iopub.execute_input": "2023-07-26T11:35:52.166427Z",
     "iopub.status.busy": "2023-07-26T11:35:52.166165Z",
     "iopub.status.idle": "2023-07-26T11:35:52.173030Z",
     "shell.execute_reply": "2023-07-26T11:35:52.172006Z"
    },
    "id": "P91LU2F0a9Ga"
   },
   "outputs": [],
   "source": [
    "class SeqEmbedding(tf.keras.layers.Layer):\n",
    "  def __init__(self, vocab_size, max_length, depth):\n",
    "    super().__init__()\n",
    "    self.pos_embedding = tf.keras.layers.Embedding(input_dim=max_length, output_dim=depth)\n",
    "\n",
    "    self.token_embedding = tf.keras.layers.Embedding(\n",
    "        input_dim=vocab_size,\n",
    "        output_dim=depth,\n",
    "        mask_zero=True)\n",
    "    \n",
    "    self.add = tf.keras.layers.Add()\n",
    "\n",
    "  def call(self, seq):\n",
    "    seq = self.token_embedding(seq) # (batch, seq, depth)\n",
    "\n",
    "    x = tf.range(tf.shape(seq)[1])  # (seq)\n",
    "    x = x[tf.newaxis, :]  # (1, seq)\n",
    "    x = self.pos_embedding(x)  # (1, seq, depth)\n",
    "\n",
    "    return self.add([seq,x])"
   ]
  },
  {
   "cell_type": "markdown",
   "metadata": {
    "id": "II1mD-bBCdMB"
   },
   "source": [
    "### Decoder"
   ]
  },
  {
   "cell_type": "markdown",
   "metadata": {
    "id": "GHMLeMtKPTCW"
   },
   "source": [
    "The decoder is a standard Transformer-decoder, it contains a stack of `DecoderLayers` where each contains three sublayers: a `CausalSelfAttention`, a `CrossAttention`, and a`FeedForward`. The implementations are almost identical to the [Transformer tutorial](https://www.tensorflow.org/text/tutorials/transformer), refer to it for more details.\n",
    "\n",
    "The `CausalSelfAttention` layer is below:"
   ]
  },
  {
   "cell_type": "code",
   "execution_count": null,
   "metadata": {
    "execution": {
     "iopub.execute_input": "2023-07-26T11:35:52.176757Z",
     "iopub.status.busy": "2023-07-26T11:35:52.176463Z",
     "iopub.status.idle": "2023-07-26T11:35:52.182611Z",
     "shell.execute_reply": "2023-07-26T11:35:52.181552Z"
    },
    "id": "6JTLiX3lKooQ"
   },
   "outputs": [],
   "source": [
    "class CausalSelfAttention(tf.keras.layers.Layer):\n",
    "  def __init__(self, **kwargs):\n",
    "    super().__init__()\n",
    "    self.mha = tf.keras.layers.MultiHeadAttention(**kwargs)\n",
    "    # Use Add instead of + so the keras mask propagates through.\n",
    "    self.add = tf.keras.layers.Add() \n",
    "    self.layernorm = tf.keras.layers.LayerNormalization()\n",
    "  \n",
    "  def call(self, x):\n",
    "    attn = self.mha(query=x, value=x,\n",
    "                    use_causal_mask=True)\n",
    "    x = self.add([x, attn])\n",
    "    return self.layernorm(x)\n"
   ]
  },
  {
   "cell_type": "markdown",
   "metadata": {
    "id": "8c66OTRwQfd8"
   },
   "source": [
    "The `CrossAttention` layer is below. Note the use of `return_attention_scores`."
   ]
  },
  {
   "cell_type": "code",
   "execution_count": null,
   "metadata": {
    "execution": {
     "iopub.execute_input": "2023-07-26T11:35:52.186304Z",
     "iopub.status.busy": "2023-07-26T11:35:52.186032Z",
     "iopub.status.idle": "2023-07-26T11:35:52.192296Z",
     "shell.execute_reply": "2023-07-26T11:35:52.191284Z"
    },
    "id": "rIY6Vu2pLBAO"
   },
   "outputs": [],
   "source": [
    "class CrossAttention(tf.keras.layers.Layer):\n",
    "  def __init__(self,**kwargs):\n",
    "    super().__init__()\n",
    "    self.mha = tf.keras.layers.MultiHeadAttention(**kwargs)\n",
    "    self.add = tf.keras.layers.Add() \n",
    "    self.layernorm = tf.keras.layers.LayerNormalization()\n",
    "  \n",
    "  def call(self, x, y, **kwargs):\n",
    "    attn, attention_scores = self.mha(\n",
    "             query=x, value=y,\n",
    "             return_attention_scores=True)\n",
    "    \n",
    "    self.last_attention_scores = attention_scores\n",
    "\n",
    "    x = self.add([x, attn])\n",
    "    return self.layernorm(x)"
   ]
  },
  {
   "cell_type": "markdown",
   "metadata": {
    "id": "8Hn5p6f-RE0C"
   },
   "source": [
    "The `FeedForward` layer is below. Remember that a `layers.Dense` layer is applied to the last axis of the input. The input will have a shape of `(batch, sequence, channels)`, so it automatically applies pointwise across the `batch` and `sequence` axes.  "
   ]
  },
  {
   "cell_type": "code",
   "execution_count": null,
   "metadata": {
    "execution": {
     "iopub.execute_input": "2023-07-26T11:35:52.195989Z",
     "iopub.status.busy": "2023-07-26T11:35:52.195717Z",
     "iopub.status.idle": "2023-07-26T11:35:52.201829Z",
     "shell.execute_reply": "2023-07-26T11:35:52.200829Z"
    },
    "id": "cWKrl7teOnH2"
   },
   "outputs": [],
   "source": [
    "class FeedForward(tf.keras.layers.Layer):\n",
    "  def __init__(self, units, dropout_rate=0.1):\n",
    "    super().__init__()\n",
    "    self.seq = tf.keras.Sequential([\n",
    "        tf.keras.layers.Dense(units=2*units, activation='relu'),\n",
    "        tf.keras.layers.Dense(units=units),\n",
    "        tf.keras.layers.Dropout(rate=dropout_rate),\n",
    "    ])\n",
    "\n",
    "    self.layernorm = tf.keras.layers.LayerNormalization()\n",
    "  \n",
    "  def call(self, x):\n",
    "    x = x + self.seq(x)\n",
    "    return self.layernorm(x)\n"
   ]
  },
  {
   "cell_type": "markdown",
   "metadata": {
    "id": "lbXoiVNPRoJc"
   },
   "source": [
    "Next arrange these three layers into a larger `DecoderLayer`. Each decoder layer applies the three smaller layers in sequence. After each sublayer the shape of `out_seq` is `(batch, sequence, channels)`. The decoder layer also returns the `attention_scores` for later visualizations."
   ]
  },
  {
   "cell_type": "code",
   "execution_count": null,
   "metadata": {
    "execution": {
     "iopub.execute_input": "2023-07-26T11:35:52.205732Z",
     "iopub.status.busy": "2023-07-26T11:35:52.205471Z",
     "iopub.status.idle": "2023-07-26T11:35:52.212183Z",
     "shell.execute_reply": "2023-07-26T11:35:52.211055Z"
    },
    "id": "ydcW5KZZHou7"
   },
   "outputs": [],
   "source": [
    "class DecoderLayer(tf.keras.layers.Layer):\n",
    "  def __init__(self, units, num_heads=1, dropout_rate=0.1):\n",
    "    super().__init__()\n",
    "    \n",
    "    self.self_attention = CausalSelfAttention(num_heads=num_heads,\n",
    "                                              key_dim=units,\n",
    "                                              dropout=dropout_rate)\n",
    "    self.cross_attention = CrossAttention(num_heads=num_heads,\n",
    "                                          key_dim=units,\n",
    "                                          dropout=dropout_rate)\n",
    "    self.ff = FeedForward(units=units, dropout_rate=dropout_rate)\n",
    "      \n",
    "\n",
    "  def call(self, inputs, training=False):\n",
    "    in_seq, out_seq = inputs\n",
    "\n",
    "    # Text input\n",
    "    out_seq = self.self_attention(out_seq)\n",
    "\n",
    "    out_seq = self.cross_attention(out_seq, in_seq)\n",
    "    \n",
    "    self.last_attention_scores = self.cross_attention.last_attention_scores\n",
    "\n",
    "    out_seq = self.ff(out_seq)\n",
    "\n",
    "    return out_seq"
   ]
  },
  {
   "cell_type": "markdown",
   "metadata": {
    "id": "-lgbYrF5Csqu"
   },
   "source": [
    "### Output"
   ]
  },
  {
   "cell_type": "markdown",
   "metadata": {
    "id": "VcnKZkrklAQf"
   },
   "source": [
    "At minimum the output layer needs a `layers.Dense` layer to generate logit-predictions for each token at each location."
   ]
  },
  {
   "cell_type": "markdown",
   "metadata": {
    "id": "6WQD87efena5"
   },
   "source": [
    "But there are a few other features you can add to make this work a little better:\n",
    "\n",
    "1. **Handle bad tokens**: The model will be generating text. It should\n",
    "   never generate a pad, unknown, or start token (`''`, `'[UNK]'`, \n",
    "   `'[START]'`). So set the bias for these to a large negative value.\n",
    "\n",
    "   > Note: You'll need to ignore these tokens in the loss function as well. \n",
    "\n",
    "2. **Smart initialization**: The default initialization of a dense layer will\n",
    "  give a model that initially predicts each token with almost uniform\n",
    "  likelihood. The actual token distribution is far from uniform. The\n",
    "  optimal value for the initial bias of the output layer is the log of the\n",
    "  probability of each token. So include an `adapt` method to count the tokens\n",
    "  and set the optimal initial bias. This reduces the initial loss from the\n",
    "  entropy of the uniform distribution (`log(vocabulary_size)`) to the marginal\n",
    "  entropy of the distribution (`-p*log(p)`).\n"
   ]
  },
  {
   "cell_type": "code",
   "execution_count": null,
   "metadata": {
    "execution": {
     "iopub.execute_input": "2023-07-26T11:35:52.216165Z",
     "iopub.status.busy": "2023-07-26T11:35:52.215918Z",
     "iopub.status.idle": "2023-07-26T11:35:52.225493Z",
     "shell.execute_reply": "2023-07-26T11:35:52.224656Z"
    },
    "id": "CeWw2SFDHUfo"
   },
   "outputs": [],
   "source": [
    "#@title\n",
    "class TokenOutput(tf.keras.layers.Layer):\n",
    "  def __init__(self, tokenizer, banned_tokens=('', '[UNK]', '[START]'), **kwargs):\n",
    "    super().__init__()\n",
    "    \n",
    "    self.dense = tf.keras.layers.Dense(\n",
    "        units=tokenizer.vocabulary_size(), **kwargs)\n",
    "    self.tokenizer = tokenizer\n",
    "    self.banned_tokens = banned_tokens\n",
    "\n",
    "    self.bias = None\n",
    "\n",
    "  def adapt(self, ds):\n",
    "    counts = collections.Counter()\n",
    "    vocab_dict = {name: id \n",
    "                  for id, name in enumerate(self.tokenizer.get_vocabulary())}\n",
    "\n",
    "    for tokens in tqdm.tqdm(ds):\n",
    "      counts.update(tokens.numpy().flatten())\n",
    "\n",
    "    counts_arr = np.zeros(shape=(self.tokenizer.vocabulary_size(),))\n",
    "    counts_arr[np.array(list(counts.keys()), dtype=np.int32)] = list(counts.values())\n",
    "\n",
    "    counts_arr = counts_arr[:]\n",
    "    for token in self.banned_tokens:\n",
    "      counts_arr[vocab_dict[token]] = 0\n",
    "\n",
    "    total = counts_arr.sum()\n",
    "    p = counts_arr/total\n",
    "    p[counts_arr==0] = 1.0\n",
    "    log_p = np.log(p)  # log(1) == 0\n",
    "\n",
    "    entropy = -(log_p*p).sum()\n",
    "\n",
    "    print()\n",
    "    print(f\"Uniform entropy: {np.log(self.tokenizer.vocabulary_size()):0.2f}\")\n",
    "    print(f\"Marginal entropy: {entropy:0.2f}\")\n",
    "\n",
    "    self.bias = log_p\n",
    "    self.bias[counts_arr==0] = -1e9\n",
    "\n",
    "  def call(self, x):\n",
    "    x = self.dense(x)\n",
    "    # TODO(b/250038731): Fix this.\n",
    "    # An Add layer doesn't work because of the different shapes.\n",
    "    # This clears the mask, that's okay because it prevents keras from rescaling\n",
    "    # the losses.\n",
    "    return x + self.bias\n"
   ]
  },
  {
   "cell_type": "markdown",
   "metadata": {
    "id": "xzQHqANd1A6Q"
   },
   "source": [
    "The smart initialization will significantly reduce the initial loss:"
   ]
  },
  {
   "cell_type": "code",
   "execution_count": null,
   "metadata": {
    "execution": {
     "iopub.execute_input": "2023-07-26T11:35:52.229158Z",
     "iopub.status.busy": "2023-07-26T11:35:52.228891Z",
     "iopub.status.idle": "2023-07-26T11:35:55.882985Z",
     "shell.execute_reply": "2023-07-26T11:35:55.882013Z"
    },
    "id": "GGnOQyc501B2"
   },
   "outputs": [],
   "source": [
    "output_layer = TokenOutput(tokenizer, banned_tokens=('', '[UNK]', '[START]'))\n",
    "# This might run a little faster if the dataset didn't also have to load the image data.\n",
    "output_layer.adapt(train_ds.map(lambda inputs, labels: labels))"
   ]
  },
  {
   "cell_type": "markdown",
   "metadata": {
    "id": "3gq-ICN7bD-u"
   },
   "source": [
    "### Build the model"
   ]
  },
  {
   "cell_type": "markdown",
   "metadata": {
    "id": "gou4fPH_SWgH"
   },
   "source": [
    "To build the model, you need to combine several parts:\n",
    "\n",
    "1. The image `feature_extractor` and the text `tokenizer` and.\n",
    "1. The `seq_embedding` layer, to convert batches of token-IDs to \n",
    "   vectors `(batch, sequence, channels)`.\n",
    "3. The stack of `DecoderLayers` layers that will process the text and image data.\n",
    "4. The `output_layer` which returns a pointwise prediction of what the next word should be."
   ]
  },
  {
   "cell_type": "code",
   "execution_count": null,
   "metadata": {
    "execution": {
     "iopub.execute_input": "2023-07-26T11:35:55.887049Z",
     "iopub.status.busy": "2023-07-26T11:35:55.886766Z",
     "iopub.status.idle": "2023-07-26T11:35:55.894282Z",
     "shell.execute_reply": "2023-07-26T11:35:55.893405Z"
    },
    "id": "bHCISYehH1f6"
   },
   "outputs": [],
   "source": [
    "class Captioner(tf.keras.Model):\n",
    "  @classmethod\n",
    "  def add_method(cls, fun):\n",
    "    setattr(cls, fun.__name__, fun)\n",
    "    return fun\n",
    "\n",
    "  def __init__(self, tokenizer, feature_extractor, output_layer, num_layers=1,\n",
    "               units=256, max_length=150, num_heads=1, dropout_rate=0.1):\n",
    "    super().__init__()\n",
    "    self.feature_extractor = feature_extractor\n",
    "    self.tokenizer = tokenizer\n",
    "    self.word_to_index = tf.keras.layers.StringLookup(\n",
    "        mask_token=\"\",\n",
    "        vocabulary=tokenizer.get_vocabulary())\n",
    "    self.index_to_word = tf.keras.layers.StringLookup(\n",
    "        mask_token=\"\",\n",
    "        vocabulary=tokenizer.get_vocabulary(),\n",
    "        invert=True) \n",
    "\n",
    "    self.seq_embedding = SeqEmbedding(\n",
    "        vocab_size=tokenizer.vocabulary_size(),\n",
    "        depth=units,\n",
    "        max_length=max_length)\n",
    "\n",
    "    self.decoder_layers = [\n",
    "        DecoderLayer(units, num_heads=num_heads, dropout_rate=dropout_rate)\n",
    "        for n in range(num_layers)]\n",
    "\n",
    "    self.output_layer = output_layer"
   ]
  },
  {
   "cell_type": "markdown",
   "metadata": {
    "id": "YW390dOz9T-x"
   },
   "source": [
    "When you call the model, for training, it receives an `image, txt` pair. To make this function more usable, be flexible about the input:\n",
    "\n",
    "* If the image has 3 channels run it through the feature_extractor. Otherwise assume that it has been already. Similarly\n",
    "* If the text has dtype `tf.string` run it through the tokenizer.\n",
    "\n",
    "After that running the model is only a few steps:\n",
    "\n",
    "1. Flatten the extracted image features, so they can be input to the decoder layers.\n",
    "2. Look up the token embeddings.\n",
    "3. Run the stack of `DecoderLayer`s, on the image features and text embeddings.\n",
    "4. Run the output layer to predict the next token at each position.\n"
   ]
  },
  {
   "cell_type": "code",
   "execution_count": null,
   "metadata": {
    "execution": {
     "iopub.execute_input": "2023-07-26T11:35:55.898188Z",
     "iopub.status.busy": "2023-07-26T11:35:55.897858Z",
     "iopub.status.idle": "2023-07-26T11:35:55.903794Z",
     "shell.execute_reply": "2023-07-26T11:35:55.902832Z"
    },
    "id": "lPdb7I4h9Ulo"
   },
   "outputs": [],
   "source": [
    "  @Captioner.add_method\n",
    "  def call(self, inputs):\n",
    "    image, txt = inputs\n",
    "\n",
    "    if image.shape[-1] == 3:\n",
    "      # Apply the feature-extractor, if you get an RGB image.\n",
    "      image = self.feature_extractor(image)\n",
    "    \n",
    "    # Flatten the feature map\n",
    "    image = einops.rearrange(image, 'b h w c -> b (h w) c')\n",
    "\n",
    "\n",
    "    if txt.dtype == tf.string:\n",
    "      # Apply the tokenizer if you get string inputs.\n",
    "      txt = tokenizer(txt)\n",
    "      print(txt.size())\n",
    "\n",
    "    txt = self.seq_embedding(txt)\n",
    "\n",
    "    # Look at the image\n",
    "    for dec_layer in self.decoder_layers:\n",
    "      txt = dec_layer(inputs=(image, txt))\n",
    "      \n",
    "    txt = self.output_layer(txt)\n",
    "\n",
    "    return txt\n"
   ]
  },
  {
   "cell_type": "code",
   "execution_count": null,
   "metadata": {
    "execution": {
     "iopub.execute_input": "2023-07-26T11:35:55.907182Z",
     "iopub.status.busy": "2023-07-26T11:35:55.906920Z",
     "iopub.status.idle": "2023-07-26T11:35:56.041266Z",
     "shell.execute_reply": "2023-07-26T11:35:56.040411Z"
    },
    "id": "kmM7aZQsLiyU"
   },
   "outputs": [],
   "source": [
    "model = Captioner(tokenizer, feature_extractor=mobilenet, output_layer=output_layer,\n",
    "                  units=256, dropout_rate=0.5, num_layers=2, num_heads=2)"
   ]
  },
  {
   "cell_type": "markdown",
   "metadata": {
    "id": "xGvOcLQKghXN"
   },
   "source": [
    "### Generate captions\n",
    "\n",
    "Before getting into training, write a bit of code to generate captions. You'll use this to see how training is progressing.\n",
    "\n",
    "Start by downloading a test image:"
   ]
  },
  {
   "cell_type": "code",
   "execution_count": null,
   "metadata": {
    "execution": {
     "iopub.execute_input": "2023-07-26T11:35:56.045165Z",
     "iopub.status.busy": "2023-07-26T11:35:56.044899Z",
     "iopub.status.idle": "2023-07-26T11:35:56.411594Z",
     "shell.execute_reply": "2023-07-26T11:35:56.410710Z"
    },
    "id": "cwFcdMqC-jE2"
   },
   "outputs": [],
   "source": [
    "image_url = 'https://cdn.shopify.com/s/files/1/0435/0466/4732/files/1cat_sleeping_all_day_not_eating_480x480.png?v=1640678108'\n",
    "image_path = tf.keras.utils.get_file('surf.jpg', origin=image_url)\n",
    "image = load_image(image_path)"
   ]
  },
  {
   "cell_type": "markdown",
   "metadata": {
    "id": "IRBIiTkubmxA"
   },
   "source": [
    "To caption an image with this model:\n",
    "\n",
    "- Extract the `img_features`\n",
    "- Initialize the list of output tokens with a `[START]` token.\n",
    "- Pass `img_features` and `tokens` into the model.\n",
    "  - It returns a list of logits.\n",
    "  - Choose the next token based on those logits.  \n",
    "  - Add it to the list of tokens, and continue the loop.\n",
    "  - If it generates an `'[END]'` token, break out of the loop.\n",
    "\n",
    "So add a \"simple\" method to do just that:"
   ]
  },
  {
   "cell_type": "code",
   "execution_count": null,
   "metadata": {
    "execution": {
     "iopub.execute_input": "2023-07-26T11:35:56.415944Z",
     "iopub.status.busy": "2023-07-26T11:35:56.415230Z",
     "iopub.status.idle": "2023-07-26T11:35:56.422727Z",
     "shell.execute_reply": "2023-07-26T11:35:56.421932Z"
    },
    "id": "Nf1Jie9ef_Cg"
   },
   "outputs": [],
   "source": [
    "@Captioner.add_method\n",
    "def simple_gen(self, image, temperature=1):\n",
    "  initial = self.word_to_index([['[START]']]) # (batch, sequence)\n",
    "  img_features = self.feature_extractor(image[tf.newaxis, ...])\n",
    "\n",
    "  tokens = initial # (batch, sequence)\n",
    "  for n in range(50):\n",
    "    preds = self((img_features, tokens)).numpy()  # (batch, sequence, vocab)\n",
    "    preds = preds[:,-1, :]  #(batch, vocab)\n",
    "    if temperature==0:\n",
    "        next = tf.argmax(preds, axis=-1)[:, tf.newaxis]  # (batch, 1)\n",
    "    else:\n",
    "        next = tf.random.categorical(preds/temperature, num_samples=1)  # (batch, 1)\n",
    "    tokens = tf.concat([tokens, next], axis=1) # (batch, sequence) \n",
    "\n",
    "    if next[0] == self.word_to_index('[END]'):\n",
    "      break\n",
    "  words = index_to_word(tokens[0, 1:-1])\n",
    "  result = tf.strings.reduce_join(words, axis=-1, separator=' ')\n",
    "  return result.numpy().decode()"
   ]
  },
  {
   "cell_type": "markdown",
   "metadata": {
    "id": "TxN2NPX2zB8y"
   },
   "source": [
    "Here are some generated captions for that image, the model's untrained, so they don't make much sense yet:"
   ]
  },
  {
   "cell_type": "code",
   "execution_count": null,
   "metadata": {
    "execution": {
     "iopub.execute_input": "2023-07-26T11:35:56.426384Z",
     "iopub.status.busy": "2023-07-26T11:35:56.426093Z",
     "iopub.status.idle": "2023-07-26T11:36:01.761992Z",
     "shell.execute_reply": "2023-07-26T11:36:01.761031Z"
    },
    "id": "sPm96CccvHnq"
   },
   "outputs": [],
   "source": [
    "for t in (0.0, 0.5, 1.0):\n",
    "  result = model.simple_gen(image, temperature=t)\n",
    "  print(result)"
   ]
  },
  {
   "cell_type": "markdown",
   "metadata": {
    "id": "JefwCRZ8z-Ah"
   },
   "source": [
    "The temperature parameter allows you to interpolate between 3 modes:\n",
    "\n",
    "1. Greedy decoding (`temperature=0.0`) - Chooses the most likely next token at each step.\n",
    "2. Random sampling according to the logits (`temperature=1.0`).\n",
    "3. Uniform random sampling (`temperature >> 1.0`). \n",
    "\n",
    "Since the model is untrained, and it used the frequency-based initialization, the \"greedy\" output (first) usually only contains the most common tokens: `['a', '.', '[END]']`."
   ]
  },
  {
   "cell_type": "markdown",
   "metadata": {
    "id": "r0FpTvaPkqON"
   },
   "source": [
    "## Train"
   ]
  },
  {
   "cell_type": "markdown",
   "metadata": {
    "id": "IKcwZdqObK-U"
   },
   "source": [
    "To train the model you'll need several additional components:\n",
    "\n",
    "- The Loss and metrics\n",
    "- The Optimizer\n",
    "- Optional Callbacks"
   ]
  },
  {
   "cell_type": "markdown",
   "metadata": {
    "id": "g5IW2mWa2sAG"
   },
   "source": [
    "### Losses and metrics"
   ]
  },
  {
   "cell_type": "markdown",
   "metadata": {
    "id": "XbpbDQTw1lOW"
   },
   "source": [
    "Here's an implementation of a masked loss and accuracy:\n",
    "\n",
    "When calculating the mask for the loss, note the `loss < 1e8`. This term discards the artificial, impossibly high losses for the `banned_tokens`."
   ]
  },
  {
   "cell_type": "code",
   "execution_count": null,
   "metadata": {
    "execution": {
     "iopub.execute_input": "2023-07-26T11:36:01.766658Z",
     "iopub.status.busy": "2023-07-26T11:36:01.766375Z",
     "iopub.status.idle": "2023-07-26T11:36:01.772599Z",
     "shell.execute_reply": "2023-07-26T11:36:01.771797Z"
    },
    "id": "s24im3FqxAfT"
   },
   "outputs": [],
   "source": [
    "def masked_loss(labels, preds):  \n",
    "  loss = tf.nn.sparse_softmax_cross_entropy_with_logits(labels, preds)\n",
    "\n",
    "  mask = (labels != 0) & (loss < 1e8) \n",
    "  mask = tf.cast(mask, loss.dtype)\n",
    "\n",
    "  loss = loss*mask\n",
    "  loss = tf.reduce_sum(loss)/tf.reduce_sum(mask)\n",
    "  return loss\n",
    "\n",
    "def masked_acc(labels, preds):\n",
    "  mask = tf.cast(labels!=0, tf.float32)\n",
    "  preds = tf.argmax(preds, axis=-1)\n",
    "  labels = tf.cast(labels, tf.int64)\n",
    "  match = tf.cast(preds == labels, mask.dtype)\n",
    "  acc = tf.reduce_sum(match*mask)/tf.reduce_sum(mask)\n",
    "  return acc"
   ]
  },
  {
   "cell_type": "markdown",
   "metadata": {
    "id": "zOhjHqgv3F2e"
   },
   "source": [
    "### Callbacks"
   ]
  },
  {
   "cell_type": "markdown",
   "metadata": {
    "id": "3dyQN9UfJYEd"
   },
   "source": [
    "For feedback during training setup a `keras.callbacks.Callback` to generate some captions for the surfer image at the end of each epoch."
   ]
  },
  {
   "cell_type": "code",
   "execution_count": null,
   "metadata": {
    "execution": {
     "iopub.execute_input": "2023-07-26T11:36:01.776601Z",
     "iopub.status.busy": "2023-07-26T11:36:01.776325Z",
     "iopub.status.idle": "2023-07-26T11:36:01.781732Z",
     "shell.execute_reply": "2023-07-26T11:36:01.780891Z"
    },
    "id": "IKDwbZOCZ-AP"
   },
   "outputs": [],
   "source": [
    "class GenerateText(tf.keras.callbacks.Callback):\n",
    "  def __init__(self):\n",
    "    image_url = 'https://tensorflow.org/images/surf.jpg'\n",
    "    image_path = tf.keras.utils.get_file('surf.jpg', origin=image_url)\n",
    "    self.image = load_image(image_path)\n",
    "\n",
    "  def on_epoch_end(self, epochs=None, logs=None):\n",
    "    print()\n",
    "    print()\n",
    "    for t in (0.0, 0.5, 1.0):\n",
    "      result = self.model.simple_gen(self.image, temperature=t)\n",
    "      print(result)\n",
    "    print()\n"
   ]
  },
  {
   "cell_type": "markdown",
   "metadata": {
    "id": "1yNA3_RAsdl0"
   },
   "source": [
    "It generates three output strings, like the earlier example, like before the first is \"greedy\", choosing the argmax of the logits at each step."
   ]
  },
  {
   "cell_type": "code",
   "execution_count": null,
   "metadata": {
    "execution": {
     "iopub.execute_input": "2023-07-26T11:36:01.785292Z",
     "iopub.status.busy": "2023-07-26T11:36:01.785039Z",
     "iopub.status.idle": "2023-07-26T11:36:07.908450Z",
     "shell.execute_reply": "2023-07-26T11:36:07.907425Z"
    },
    "id": "IGVLpzo13rcA"
   },
   "outputs": [],
   "source": [
    "g = GenerateText()\n",
    "g.model = model\n",
    "g.on_epoch_end(0)"
   ]
  },
  {
   "cell_type": "markdown",
   "metadata": {
    "id": "MAxp4KZRKDk9"
   },
   "source": [
    "Also use `callbacks.EarlyStopping` to terminate training when the model starts to overfit."
   ]
  },
  {
   "cell_type": "code",
   "execution_count": null,
   "metadata": {
    "execution": {
     "iopub.execute_input": "2023-07-26T11:36:07.912501Z",
     "iopub.status.busy": "2023-07-26T11:36:07.912229Z",
     "iopub.status.idle": "2023-07-26T11:36:07.921353Z",
     "shell.execute_reply": "2023-07-26T11:36:07.920457Z"
    },
    "id": "MjzrwGZp23xx"
   },
   "outputs": [],
   "source": [
    "callbacks = [\n",
    "    GenerateText(),\n",
    "    tf.keras.callbacks.EarlyStopping(\n",
    "        patience=5, restore_best_weights=True)]"
   ]
  },
  {
   "cell_type": "markdown",
   "metadata": {
    "id": "ZBaJhQpcG8u0"
   },
   "source": [
    "### Train"
   ]
  },
  {
   "cell_type": "markdown",
   "metadata": {
    "id": "WBXG0dCDKO55"
   },
   "source": [
    "Configure and execute the training."
   ]
  },
  {
   "cell_type": "code",
   "execution_count": null,
   "metadata": {
    "execution": {
     "iopub.execute_input": "2023-07-26T11:36:07.925321Z",
     "iopub.status.busy": "2023-07-26T11:36:07.925047Z",
     "iopub.status.idle": "2023-07-26T11:36:07.954574Z",
     "shell.execute_reply": "2023-07-26T11:36:07.953760Z"
    },
    "id": "2OR5ZpAII__u"
   },
   "outputs": [],
   "source": [
    "model.compile(optimizer=tf.keras.optimizers.Adam(learning_rate=1e-4),\n",
    "           loss=masked_loss,\n",
    "           metrics=[masked_acc])"
   ]
  },
  {
   "cell_type": "markdown",
   "metadata": {
    "id": "ro955bQ2KR0X"
   },
   "source": [
    "For more frequent reporting, use the `Dataset.repeat()` method, and set the `steps_per_epoch` and `validation_steps` arguments to `Model.fit`. \n",
    "\n",
    "With this setup on `Flickr8k` a full pass over the dataset is 900+ batches, but below the reporting-epochs are 100 steps."
   ]
  },
  {
   "cell_type": "code",
   "execution_count": null,
   "metadata": {
    "execution": {
     "iopub.execute_input": "2023-07-26T11:36:07.958465Z",
     "iopub.status.busy": "2023-07-26T11:36:07.958196Z",
     "iopub.status.idle": "2023-07-26T11:42:06.831332Z",
     "shell.execute_reply": "2023-07-26T11:42:06.830249Z"
    },
    "id": "3aB0baOVMZe9"
   },
   "outputs": [],
   "source": [
    "history = model.fit(\n",
    "    train_ds.repeat(),\n",
    "    steps_per_epoch=100,\n",
    "    validation_data=test_ds.repeat(),\n",
    "    validation_steps=20,\n",
    "    epochs=300,\n",
    "    callbacks=callbacks)"
   ]
  },
  {
   "cell_type": "markdown",
   "metadata": {
    "id": "P634LfVgw-eV"
   },
   "source": [
    "Plot the loss and accuracy over the training run:"
   ]
  },
  {
   "cell_type": "code",
   "execution_count": null,
   "metadata": {
    "execution": {
     "iopub.execute_input": "2023-07-26T11:42:06.835598Z",
     "iopub.status.busy": "2023-07-26T11:42:06.835306Z",
     "iopub.status.idle": "2023-07-26T11:42:07.192477Z",
     "shell.execute_reply": "2023-07-26T11:42:07.191501Z"
    },
    "id": "6Wn8KSkUw916"
   },
   "outputs": [],
   "source": [
    "plt.plot(history.history['loss'], label='loss')\n",
    "plt.plot(history.history['val_loss'], label='val_loss')\n",
    "plt.ylim([0, max(plt.ylim())])\n",
    "plt.xlabel('Epoch #')\n",
    "plt.ylabel('CE/token')\n",
    "plt.legend()"
   ]
  },
  {
   "cell_type": "code",
   "execution_count": null,
   "metadata": {
    "execution": {
     "iopub.execute_input": "2023-07-26T11:42:07.196328Z",
     "iopub.status.busy": "2023-07-26T11:42:07.196062Z",
     "iopub.status.idle": "2023-07-26T11:42:07.453381Z",
     "shell.execute_reply": "2023-07-26T11:42:07.452487Z"
    },
    "id": "yZQ78b2Kxw-T"
   },
   "outputs": [],
   "source": [
    "plt.plot(history.history['masked_acc'], label='accuracy')\n",
    "plt.plot(history.history['val_masked_acc'], label='val_accuracy')\n",
    "plt.ylim([0, max(plt.ylim())])\n",
    "plt.xlabel('Epoch #')\n",
    "plt.ylabel('CE/token')\n",
    "plt.legend()"
   ]
  },
  {
   "cell_type": "markdown",
   "metadata": {
    "id": "SQN1qT7KNqbL"
   },
   "source": [
    "## Attention plots"
   ]
  },
  {
   "cell_type": "markdown",
   "metadata": {
    "id": "E9XJaC2b2J23"
   },
   "source": [
    "Now, using the trained model,  run that `simple_gen` method on the image:"
   ]
  },
  {
   "cell_type": "code",
   "execution_count": null,
   "metadata": {
    "execution": {
     "iopub.execute_input": "2023-07-26T11:42:07.457454Z",
     "iopub.status.busy": "2023-07-26T11:42:07.457186Z",
     "iopub.status.idle": "2023-07-26T11:42:08.309119Z",
     "shell.execute_reply": "2023-07-26T11:42:08.308216Z"
    },
    "id": "1UQPtNTb2eu3"
   },
   "outputs": [],
   "source": [
    "result = model.simple_gen(image, temperature=0.0)\n",
    "result"
   ]
  },
  {
   "cell_type": "markdown",
   "metadata": {
    "id": "7NXbmeLGN1bJ"
   },
   "source": [
    "Split the output back into tokens:"
   ]
  },
  {
   "cell_type": "code",
   "execution_count": null,
   "metadata": {
    "execution": {
     "iopub.execute_input": "2023-07-26T11:42:08.313040Z",
     "iopub.status.busy": "2023-07-26T11:42:08.312770Z",
     "iopub.status.idle": "2023-07-26T11:42:08.316838Z",
     "shell.execute_reply": "2023-07-26T11:42:08.315985Z"
    },
    "id": "zHKOpm0w5Xto"
   },
   "outputs": [],
   "source": [
    "str_tokens = result.split()\n",
    "str_tokens.append('[END]')"
   ]
  },
  {
   "cell_type": "markdown",
   "metadata": {
    "id": "fE-AjuAV55Qo"
   },
   "source": [
    "The `DecoderLayers` each cache the attention scores for their `CrossAttention` layer. The shape of each attention map is `(batch=1, heads, sequence, image)`:"
   ]
  },
  {
   "cell_type": "code",
   "execution_count": null,
   "metadata": {
    "execution": {
     "iopub.execute_input": "2023-07-26T11:42:08.320609Z",
     "iopub.status.busy": "2023-07-26T11:42:08.320354Z",
     "iopub.status.idle": "2023-07-26T11:42:08.325872Z",
     "shell.execute_reply": "2023-07-26T11:42:08.325027Z"
    },
    "id": "XZpyuQvq2q-B"
   },
   "outputs": [],
   "source": [
    "attn_maps = [layer.last_attention_scores for layer in model.decoder_layers]\n",
    "[map.shape for map in attn_maps]"
   ]
  },
  {
   "cell_type": "markdown",
   "metadata": {
    "id": "T42ImsWv6oHG"
   },
   "source": [
    "So stack the maps along the `batch` axis, then average over the `(batch, heads)` axes, while splitting the `image` axis back into `height, width`:\n"
   ]
  },
  {
   "cell_type": "code",
   "execution_count": null,
   "metadata": {
    "execution": {
     "iopub.execute_input": "2023-07-26T11:42:08.329450Z",
     "iopub.status.busy": "2023-07-26T11:42:08.329196Z",
     "iopub.status.idle": "2023-07-26T11:42:08.337349Z",
     "shell.execute_reply": "2023-07-26T11:42:08.336411Z"
    },
    "id": "ojwtvnkh6mS-"
   },
   "outputs": [],
   "source": [
    "attention_maps = tf.concat(attn_maps, axis=0)\n",
    "attention_maps = einops.reduce(\n",
    "    attention_maps,\n",
    "    'batch heads sequence (height width) -> sequence height width',\n",
    "    height=7, width=7,\n",
    "    reduction='mean')"
   ]
  },
  {
   "cell_type": "markdown",
   "metadata": {
    "id": "4TM7rA3zGpJW"
   },
   "source": [
    "Now you have a single attention map, for each sequence prediction. The values in each map should sum to `1.`"
   ]
  },
  {
   "cell_type": "code",
   "execution_count": null,
   "metadata": {
    "execution": {
     "iopub.execute_input": "2023-07-26T11:42:08.340991Z",
     "iopub.status.busy": "2023-07-26T11:42:08.340712Z",
     "iopub.status.idle": "2023-07-26T11:42:08.349050Z",
     "shell.execute_reply": "2023-07-26T11:42:08.348252Z"
    },
    "id": "ASWmWerGCZp3"
   },
   "outputs": [],
   "source": [
    "einops.reduce(attention_maps, 'sequence height width -> sequence', reduction='sum')"
   ]
  },
  {
   "cell_type": "markdown",
   "metadata": {
    "id": "fv7XYGFUd-U7"
   },
   "source": [
    "So here is where the model was focusing attention while generating each token of the output:"
   ]
  },
  {
   "cell_type": "code",
   "execution_count": null,
   "metadata": {
    "execution": {
     "iopub.execute_input": "2023-07-26T11:42:08.352703Z",
     "iopub.status.busy": "2023-07-26T11:42:08.352457Z",
     "iopub.status.idle": "2023-07-26T11:42:08.358125Z",
     "shell.execute_reply": "2023-07-26T11:42:08.357271Z"
    },
    "id": "fD_y7PD6RPGt"
   },
   "outputs": [],
   "source": [
    "def plot_attention_maps(image, str_tokens, attention_map):\n",
    "    fig = plt.figure(figsize=(16, 9))\n",
    "\n",
    "    len_result = len(str_tokens)\n",
    "    \n",
    "    titles = []\n",
    "    for i in range(len_result):\n",
    "      map = attention_map[i]\n",
    "      grid_size = max(int(np.ceil(len_result/2)), 2)\n",
    "      ax = fig.add_subplot(3, grid_size, i+1)\n",
    "      titles.append(ax.set_title(str_tokens[i]))\n",
    "      img = ax.imshow(image)\n",
    "      ax.imshow(map, cmap='gray', alpha=0.6, extent=img.get_extent(),\n",
    "                clim=[0.0, np.max(map)])\n",
    "\n",
    "    plt.tight_layout()"
   ]
  },
  {
   "cell_type": "code",
   "execution_count": null,
   "metadata": {},
   "outputs": [],
   "source": [
    "def plot_attention_maps(image, str_tokens, attention_map):\n",
    "    fig = plt.figure(figsize=(16, 9))\n",
    "\n",
    "    len_result = len(str_tokens)\n",
    "\n",
    "    # Reverse the order of characters in str_tokens to display Persian text from left to right\n",
    "    str_tokens = str_tokens[::-1]\n",
    "    \n",
    "    titles = []\n",
    "    for i in range(len_result):\n",
    "        map = attention_map[i]\n",
    "        grid_size = max(int(np.ceil(len_result/2)), 2)\n",
    "        ax = fig.add_subplot(3, grid_size, i+1)\n",
    "        \n",
    "        # Use a font that supports Persian script for rendering text\n",
    "        font_properties = {'family': 'DejaVu Sans', 'size': 12}\n",
    "        titles.append(ax.set_title(str_tokens[i], font_properties))\n",
    "        \n",
    "        img = ax.imshow(image)\n",
    "        ax.imshow(map, cmap='gray', alpha=0.6, extent=img.get_extent(),\n",
    "                  clim=[0.0, np.max(map)])\n",
    "\n",
    "    plt.tight_layout()"
   ]
  },
  {
   "cell_type": "code",
   "execution_count": null,
   "metadata": {
    "execution": {
     "iopub.execute_input": "2023-07-26T11:42:08.361636Z",
     "iopub.status.busy": "2023-07-26T11:42:08.361397Z",
     "iopub.status.idle": "2023-07-26T11:42:11.062023Z",
     "shell.execute_reply": "2023-07-26T11:42:11.061017Z"
    },
    "id": "PI4NAAws9rvY"
   },
   "outputs": [],
   "source": [
    "plot_attention_maps(image/255, str_tokens, attention_maps)"
   ]
  },
  {
   "cell_type": "markdown",
   "metadata": {
    "id": "riTz0abQKMkV"
   },
   "source": [
    "Now put that together into a more usable function:"
   ]
  },
  {
   "cell_type": "code",
   "execution_count": null,
   "metadata": {
    "execution": {
     "iopub.execute_input": "2023-07-26T11:42:11.072374Z",
     "iopub.status.busy": "2023-07-26T11:42:11.072091Z",
     "iopub.status.idle": "2023-07-26T11:42:11.078145Z",
     "shell.execute_reply": "2023-07-26T11:42:11.077214Z"
    },
    "id": "mktpfW-SKQIJ"
   },
   "outputs": [],
   "source": [
    "import arabic_reshaper\n",
    "from bidi.algorithm import get_display\n",
    "\n",
    "@Captioner.add_method\n",
    "def run_and_show_attention(self, image, temperature=0.0):\n",
    "  result_txt = self.simple_gen(image, temperature)\n",
    "  str_tokens = result_txt.split()\n",
    "  str_tokens = [get_display(arabic_reshaper.reshape(i)) for i in str_tokens]\n",
    "  # str_tokens.append('[END]')\n",
    "\n",
    "  attention_maps = [layer.last_attention_scores for layer in self.decoder_layers]\n",
    "  attention_maps = tf.concat(attention_maps, axis=0)\n",
    "  attention_maps = einops.reduce(\n",
    "      attention_maps,\n",
    "      'batch heads sequence (height width) -> sequence height width',\n",
    "      height=7, width=7,\n",
    "      reduction='mean')\n",
    "  \n",
    "  plot_attention_maps(image/255, str_tokens, attention_maps)\n",
    "  result_txt = get_display(arabic_reshaper.reshape(result_txt))\n",
    "  t = plt.suptitle(result_txt)\n",
    "  t.set_y(1.05)\n"
   ]
  },
  {
   "cell_type": "code",
   "execution_count": null,
   "metadata": {
    "execution": {
     "iopub.execute_input": "2023-07-26T11:42:11.081671Z",
     "iopub.status.busy": "2023-07-26T11:42:11.081401Z",
     "iopub.status.idle": "2023-07-26T11:42:14.418327Z",
     "shell.execute_reply": "2023-07-26T11:42:14.417357Z"
    },
    "id": "FntRkY11OiMw"
   },
   "outputs": [],
   "source": [
    "run_and_show_attention(model, image)"
   ]
  },
  {
   "cell_type": "markdown",
   "metadata": {
    "id": "Rprk3HEvZuxb"
   },
   "source": [
    "## Try it on your own images\n",
    "\n",
    "For fun, below you're provided a method you can use to caption your own images with the model you've just trained. Keep in mind, it was trained on a relatively small amount of data, and your images may be different from the training data (so be prepared for strange results!)\n"
   ]
  },
  {
   "cell_type": "code",
   "execution_count": null,
   "metadata": {
    "execution": {
     "iopub.execute_input": "2023-07-26T11:42:14.428141Z",
     "iopub.status.busy": "2023-07-26T11:42:14.427862Z",
     "iopub.status.idle": "2023-07-26T11:42:18.717325Z",
     "shell.execute_reply": "2023-07-26T11:42:18.716310Z"
    },
    "id": "9Psd1quzaAWg"
   },
   "outputs": [],
   "source": [
    "image_path = '/media/shima/78F218F6F218B9F8/Private/image_captioning/src/train.jpg'\n",
    "image = load_image(image_path)\n",
    "run_and_show_attention(model, image)"
   ]
  }
 ],
 "metadata": {
  "accelerator": "GPU",
  "colab": {
   "collapsed_sections": [],
   "name": "image_captioning.ipynb",
   "toc_visible": true
  },
  "kernelspec": {
   "display_name": "Python 3",
   "name": "python3"
  },
  "language_info": {
   "codemirror_mode": {
    "name": "ipython",
    "version": 3
   },
   "file_extension": ".py",
   "mimetype": "text/x-python",
   "name": "python",
   "nbconvert_exporter": "python",
   "pygments_lexer": "ipython3",
   "version": "3.10.12"
  }
 },
 "nbformat": 4,
 "nbformat_minor": 0
}
